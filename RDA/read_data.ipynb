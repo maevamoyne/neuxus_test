{
 "cells": [
  {
   "cell_type": "code",
   "execution_count": 26,
   "metadata": {},
   "outputs": [
    {
     "name": "stdout",
     "output_type": "stream",
     "text": [
      "Creating RawArray with float64 data, n_channels=36, n_times=57551\n",
      "    Range : 0 ... 57550 =      0.000 ...   230.200 secs\n",
      "Ready.\n"
     ]
    }
   ],
   "source": [
    "import numpy as np\n",
    "import mne\n",
    "\n",
    "data = np.load('test.npy') * 1e-6\n",
    "\n",
    "n_chan = data.shape[0]\n",
    "info = mne.create_info(ch_names=[str(i+1) for i in range(n_chan)],\n",
    "                       sfreq=250,\n",
    "                       ch_types=['eeg'] * n_chan)\n",
    "raw = mne.io.RawArray(data, info)"
   ]
  },
  {
   "cell_type": "code",
   "execution_count": 27,
   "metadata": {},
   "outputs": [
    {
     "name": "stdout",
     "output_type": "stream",
     "text": [
      "Filtering raw data in 1 contiguous segment\n",
      "Setting up high-pass filter at 1 Hz\n",
      "\n",
      "FIR filter parameters\n",
      "---------------------\n",
      "Designing a one-pass, zero-phase, non-causal highpass filter:\n",
      "- Windowed time-domain design (firwin) method\n",
      "- Hamming window with 0.0194 passband ripple and 53 dB stopband attenuation\n",
      "- Lower passband edge: 1.00\n",
      "- Lower transition bandwidth: 1.00 Hz (-6 dB cutoff frequency: 0.50 Hz)\n",
      "- Filter length: 825 samples (3.300 sec)\n",
      "\n"
     ]
    },
    {
     "name": "stderr",
     "output_type": "stream",
     "text": [
      "[Parallel(n_jobs=1)]: Using backend SequentialBackend with 1 concurrent workers.\n",
      "[Parallel(n_jobs=1)]: Done   1 out of   1 | elapsed:    0.0s remaining:    0.0s\n",
      "[Parallel(n_jobs=1)]: Done   2 out of   2 | elapsed:    0.0s remaining:    0.0s\n",
      "[Parallel(n_jobs=1)]: Done   3 out of   3 | elapsed:    0.0s remaining:    0.0s\n",
      "[Parallel(n_jobs=1)]: Done   4 out of   4 | elapsed:    0.0s remaining:    0.0s\n",
      "[Parallel(n_jobs=1)]: Done  36 out of  36 | elapsed:    0.0s finished\n"
     ]
    },
    {
     "data": {
      "text/plain": [
       "<mne_qt_browser._pg_figure.MNEQtBrowser at 0x1dddef6b2e0>"
      ]
     },
     "execution_count": 27,
     "metadata": {},
     "output_type": "execute_result"
    },
    {
     "name": "stdout",
     "output_type": "stream",
     "text": [
      "Channels marked as bad:\n",
      "none\n"
     ]
    }
   ],
   "source": [
    "raw.filter(1, None).plot()"
   ]
  },
  {
   "cell_type": "code",
   "execution_count": 24,
   "metadata": {},
   "outputs": [
    {
     "data": {
      "text/plain": [
       "array([[-2.76908399e+207, -9.19459623e+222, -9.12007672e+222, ...,\n",
       "        -5.12981806e-007, -3.06484054e-007,  2.11758237e-021],\n",
       "       [-4.01009982e+221, -1.66148134e+237, -1.64801552e+237, ...,\n",
       "        -1.55341329e-006, -7.26702504e-007,  8.47032947e-022],\n",
       "       [-4.94265432e+158, -2.58887328e+174, -2.56789122e+174, ...,\n",
       "        -9.28651740e-007, -5.14330387e-007,  1.05879118e-021],\n",
       "       ...,\n",
       "       [-1.69406589e-021, -3.20082628e-006,  7.69879334e-006, ...,\n",
       "         2.01615082e-005,  1.06304141e-005, -6.35274710e-022],\n",
       "       [ 6.77626358e-021,  1.11008585e-005,  1.49012228e-005, ...,\n",
       "         8.58752437e-006,  8.34388669e-006, -2.11758237e-021],\n",
       "       [ 2.96461532e-021,  1.42015033e-005,  6.40208029e-006, ...,\n",
       "        -1.18630950e-005, -2.08107230e-006, -5.50571416e-021]])"
      ]
     },
     "execution_count": 24,
     "metadata": {},
     "output_type": "execute_result"
    }
   ],
   "source": [
    "data"
   ]
  },
  {
   "cell_type": "code",
   "execution_count": 23,
   "metadata": {},
   "outputs": [
    {
     "data": {
      "text/plain": [
       "array([-1.61548870e+221, -2.91921936e+235, -4.54864513e+172,\n",
       "        2.00368911e-007,  2.32367431e-008, -1.85920408e-007,\n",
       "       -2.29575923e-007, -7.88362169e+249, -3.00477940e+264,\n",
       "       -1.70952224e+017, -1.07974144e+216, -1.69998746e+192,\n",
       "       -5.18082799e+214, -1.52367466e-007,  8.42002168e-008,\n",
       "        2.47805555e-007,  1.90099694e-007, -1.50084204e+192,\n",
       "       -2.32303406e-007, -2.21253821e-007, -1.31355493e-008,\n",
       "        1.24146744e+168,  2.44080970e-007, -3.89592713e+151,\n",
       "       -3.47927390e+153, -2.58640359e-007, -1.13148576e-007,\n",
       "       -2.32429903e+233,  2.60999006e-007,  1.57411058e-007,\n",
       "       -8.59066542e-008, -2.54967255e-007])"
      ]
     },
     "execution_count": 23,
     "metadata": {},
     "output_type": "execute_result"
    },
    {
     "name": "stdout",
     "output_type": "stream",
     "text": [
      "Channels marked as bad:\n",
      "none\n"
     ]
    }
   ],
   "source": [
    "np.mean(data, axis=1)"
   ]
  },
  {
   "cell_type": "code",
   "execution_count": null,
   "metadata": {},
   "outputs": [],
   "source": []
  }
 ],
 "metadata": {
  "kernelspec": {
   "display_name": "nfb",
   "language": "python",
   "name": "python3"
  },
  "language_info": {
   "codemirror_mode": {
    "name": "ipython",
    "version": 3
   },
   "file_extension": ".py",
   "mimetype": "text/x-python",
   "name": "python",
   "nbconvert_exporter": "python",
   "pygments_lexer": "ipython3",
   "version": "3.10.9"
  }
 },
 "nbformat": 4,
 "nbformat_minor": 2
}
