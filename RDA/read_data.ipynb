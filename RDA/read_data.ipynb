{
 "cells": [
  {
   "cell_type": "code",
   "execution_count": 10,
   "metadata": {},
   "outputs": [
    {
     "name": "stdout",
     "output_type": "stream",
     "text": [
      "Opening raw data file test_raw.fif...\n",
      "Isotrak not found\n",
      "    Range : 0 ... 3750 =      0.000 ...    15.000 secs\n",
      "Ready.\n",
      "Reading 0 ... 3750  =      0.000 ...    15.000 secs...\n",
      "Filtering raw data in 1 contiguous segment\n",
      "Setting up high-pass filter at 1 Hz\n",
      "\n",
      "FIR filter parameters\n",
      "---------------------\n",
      "Designing a one-pass, zero-phase, non-causal highpass filter:\n",
      "- Windowed time-domain design (firwin) method\n",
      "- Hamming window with 0.0194 passband ripple and 53 dB stopband attenuation\n",
      "- Lower passband edge: 1.00\n",
      "- Lower transition bandwidth: 1.00 Hz (-6 dB cutoff frequency: 0.50 Hz)\n",
      "- Filter length: 825 samples (3.300 s)\n",
      "\n"
     ]
    },
    {
     "data": {
      "text/plain": [
       "<mne_qt_browser._pg_figure.MNEQtBrowser at 0x17ee9ffd750>"
      ]
     },
     "execution_count": 10,
     "metadata": {},
     "output_type": "execute_result"
    }
   ],
   "source": [
    "import numpy as np\n",
    "import mne\n",
    "\n",
    "raw = mne.io.read_raw('test_raw.fif', preload=True)\n",
    "raw.filter(1, None).plot()"
   ]
  },
  {
   "cell_type": "code",
   "execution_count": 8,
   "metadata": {},
   "outputs": [
    {
     "data": {
      "text/plain": [
       "array([[            nan,             nan,             nan, ...,\n",
       "        -1.59857559e-05, -1.02893920e-05, -1.14349448e-20],\n",
       "       [            nan,             nan,             nan, ...,\n",
       "        -1.79065130e-05, -7.71848950e-06,  7.41153829e-22],\n",
       "       [-6.77626358e-21, -1.18958811e-04, -3.94478370e-05, ...,\n",
       "        -1.10299382e-05, -7.86668544e-06, -7.62329653e-21],\n",
       "       ...,\n",
       "       [            nan,             nan,             nan, ...,\n",
       "         1.15457614e-05,  2.35838944e-06,  1.05879118e-21],\n",
       "       [            nan,             nan,             nan, ...,\n",
       "        -1.16179652e-05, -5.70871392e-06, -1.16467030e-21],\n",
       "       [            nan,             nan,             nan, ...,\n",
       "         1.67660183e-05,  1.38246437e-05,  5.92923063e-21]])"
      ]
     },
     "execution_count": 8,
     "metadata": {},
     "output_type": "execute_result"
    }
   ],
   "source": [
    "raw.get_data()"
   ]
  },
  {
   "cell_type": "code",
   "execution_count": null,
   "metadata": {},
   "outputs": [],
   "source": []
  }
 ],
 "metadata": {
  "kernelspec": {
   "display_name": "nfb",
   "language": "python",
   "name": "python3"
  },
  "language_info": {
   "codemirror_mode": {
    "name": "ipython",
    "version": 3
   },
   "file_extension": ".py",
   "mimetype": "text/x-python",
   "name": "python",
   "nbconvert_exporter": "python",
   "pygments_lexer": "ipython3",
   "version": "3.10.13"
  }
 },
 "nbformat": 4,
 "nbformat_minor": 2
}
