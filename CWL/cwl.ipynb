{
 "cells": [
  {
   "cell_type": "code",
   "execution_count": null,
   "metadata": {},
   "outputs": [],
   "source": [
    "from numba import jit, njit, prange\n",
    "import numpy as np\n",
    "\n",
    "from numpy.linalg import lstsq\n",
    "import mne\n",
    "\n",
    "@njit(nopython=True, parallel=True)\n",
    "def create_time_lag_signals(Y, sample_freq, min_lag, max_lag):\n",
    "    # Calculate number of samples for each lag\n",
    "    num_samples = int((max_lag - min_lag) * sample_freq) + 1\n",
    "    # Initialize array to store time lag signals\n",
    "    time_lag_signals = np.zeros((num_samples, Y.shape[0], Y.shape[1]))\n",
    "    # Iterate through each lag value and generate time lagged signals\n",
    "    lags = np.linspace(min_lag, max_lag, num_samples)\n",
    "    for l in prange(len(lags)):\n",
    "        lag = lags[l]\n",
    "        # Calculate index offset based on time lag\n",
    "        offset = int(round(lag * sample_freq))\n",
    "        # Shift signal Y by the offset\n",
    "        shifted_Y = np.roll(Y, offset)\n",
    "        # Clip the shifted signal to match the length of X\n",
    "        if offset > 0:\n",
    "            shifted_Y[:offset] = Y[0]\n",
    "        elif offset < 0:\n",
    "            shifted_Y[offset:] = Y[-1]\n",
    "        \n",
    "        # Store the time lagged signal\n",
    "        time_lag_signals[l] = shifted_Y\n",
    "    time_lag_signals = time_lag_signals.reshape(-1, Y.shape[1])\n",
    "    return time_lag_signals\n",
    "\n",
    "\n",
    "@njit(nopython=True, parallel=True)\n",
    "def compute_regression(X, Y):\n",
    "    ## Sk implementation\n",
    "    X_offset = np.average(X, axis=0)\n",
    "    X -= X_offset\n",
    "\n",
    "    n_samples, n_channels =  Y.shape\n",
    "    residuals = np.zeros_like(Y)\n",
    "    for c in prange(n_channels):\n",
    "        y = Y[:, c]\n",
    "        y_offset = np.average(y, axis=0)\n",
    "        y -= y_offset\n",
    "        #y = y.reshape(-1, 1)\n",
    "        coef_, resids, rank, s = lstsq(X, y, rcond=-1)\n",
    "        resid = y - np.dot(X, coef_)\n",
    "        residuals[:, c] = resid.reshape(-1)\n",
    "    return residuals.T\n",
    "\n",
    "\n",
    "class CWLCorrection():\n",
    "    def __init__(self, info, cwl_ch_names, picks=['eeg', 'ecg'], min_lag=-0.1, max_lag=0.1):\n",
    "        self.pick_indices = mne._fiff.pick._picks_to_idx(info, picks=picks)\n",
    "        self.cwl_indices = mne._fiff.pick._picks_to_idx(info, picks=cwl_ch_names)\n",
    "        self.sfreq = info['sfreq']\n",
    "        self.min_lag = min_lag\n",
    "        self.max_lag = max_lag\n",
    "\n",
    "    def correct_epochs(self, epochs, verbose=False):\n",
    "        data = epochs.get_data()\n",
    "        for d,dat in enumerate(data):\n",
    "            data[d] = self.correct_data(dat)\n",
    "        epochs = mne.EpochsArray(data, epochs.info, verbose=verbose)\n",
    "        return(epochs)\n",
    "    \n",
    "    def correct_raw(self, raw, verbose=False):\n",
    "        data = raw.get_data()\n",
    "        data = self.correct_data(data)\n",
    "        raw = mne.io.RawArray(data, raw.info, verbose=verbose)\n",
    "        return(raw)\n",
    "\n",
    "    def correct_data(self, data):\n",
    "        X = data[self.cwl_indices]\n",
    "        Y = data[self.pick_indices]\n",
    "\n",
    "        X = create_time_lag_signals(X, self.sfreq, self.min_lag, self.max_lag)\n",
    "        residuals = compute_regression(X.T, Y.T)\n",
    "\n",
    "        data[self.pick_indices] = residuals\n",
    "        return(data)\n",
    "    \n",
    "    def correct_data_sm(self, data, verbose=False):\n",
    "        import statsmodels.api as sm\n",
    "        X = data[self.cwl_indices]\n",
    "        Y = data[self.pick_indices]\n",
    "        X = create_time_lag_signals(X, self.sfreq, self.min_lag, self.max_lag)\n",
    "\n",
    "        for pick in self.pick_indices:\n",
    "            y = data[pick, :]\n",
    "            model = sm.OLS(y.T, X.T)\n",
    "            results = model.fit()\n",
    "            residuals = results.resid\n",
    "            data[pick] = residuals\n",
    "        return(data)"
   ]
  },
  {
   "cell_type": "code",
   "execution_count": null,
   "metadata": {},
   "outputs": [],
   "source": [
    "template_path = \"D:\\Soraya\\OnlinePreproc\\Analyzer_GA_P02_eyes_closed_mrion-edf.edf\"\n",
    "raw_template = mne.io.read_raw(template_path)\n",
    "\n",
    "clean_raw_path = r\"D:\\Soraya\\OnlinePreproc\\Analyzer_GA_PA_CWL_P02_eyes_closed_mrion-edf.edf\"\n",
    "clean_raw = mne.io.read_raw(clean_raw_path)\n",
    "\n",
    "raw = mne.io.read_raw(r\"D:\\Soraya\\OnlinePreproc\\P02_eyes_closed_mrion_RecView_PA_GA_raw.fif\").crop(10, 250)\n",
    "\n",
    "rename_dict = {raw.ch_names[i]: raw_template.ch_names[i] for i in range(len(raw_template.ch_names))}\n",
    "raw.rename_channels(rename_dict)\n",
    "raw.set_channel_types({'CWL1': 'misc', 'CWL2': 'misc', 'CWL3': 'misc', 'CWL4': 'misc', 'ECG': 'ecg'})"
   ]
  },
  {
   "cell_type": "code",
   "execution_count": null,
   "metadata": {},
   "outputs": [],
   "source": [
    "clean_raw.plot(picks='eeg')"
   ]
  },
  {
   "cell_type": "code",
   "execution_count": null,
   "metadata": {},
   "outputs": [],
   "source": [
    "cwl = CWLCorrection(raw.info, cwl_ch_names=['CWL1', 'CWL2', 'CWL3', 'CWL4'], min_lag=-0.2, max_lag=0.2)\n",
    "\n",
    "epochs = mne.make_fixed_length_epochs(raw, duration=5, preload=True)\n",
    "epochs_corrected = cwl.correct_epochs(epochs.copy())"
   ]
  },
  {
   "cell_type": "code",
   "execution_count": null,
   "metadata": {},
   "outputs": [],
   "source": [
    "epochs.plot_psd(picks='eeg')"
   ]
  },
  {
   "cell_type": "code",
   "execution_count": null,
   "metadata": {},
   "outputs": [],
   "source": [
    "clean_epochs = mne.make_fixed_length_epochs(clean_raw, duration=5, preload=True)\n",
    "clean_epochs.plot_psd(picks='eeg')"
   ]
  },
  {
   "cell_type": "code",
   "execution_count": null,
   "metadata": {},
   "outputs": [],
   "source": [
    "epochs_corrected.plot_psd(picks='eeg')"
   ]
  },
  {
   "cell_type": "code",
   "execution_count": null,
   "metadata": {},
   "outputs": [],
   "source": [
    "import time\n",
    "\n",
    "cwl = CWLCorrection(raw.info, cwl_ch_names=['CWL1', 'CWL2', 'CWL3', 'CWL4'], min_lag=-0.2, max_lag=0.2)\n",
    "\n",
    "window_size = 5 # seconds\n",
    "tmin = raw.times[0]\n",
    "tmax =  raw.times[-1]\n",
    "\n",
    "starts = np.arange(tmin, tmax - window_size, window_size - 1)\n",
    "ends = starts + window_size\n",
    "exec_times = []\n",
    "\n",
    "corrected_data = np.zeros_like(raw.get_data())\n",
    "for start, end in zip(starts, ends):\n",
    "    raw_window = raw.copy().crop(tmin=start, tmax=end, include_tmax=False, verbose=False)\n",
    "    t_start = time.time()\n",
    "    raw_corrected = cwl.correct(raw_window)\n",
    "    t_end = time.time()\n",
    "    exec_times.append(t_end - t_start)\n",
    "    corrected_data[:, raw_window.time_as_index(start)[0]:raw_window.time_as_index(end)[0]] = raw_corrected.get_data()\n",
    "\n",
    "raw_corrected = mne.io.RawArray(corrected_data, raw.info)\n",
    "print(np.mean(exec_times) , \"s\", \"+-\", np.std(exec_times), \"s\")"
   ]
  },
  {
   "cell_type": "code",
   "execution_count": null,
   "metadata": {},
   "outputs": [],
   "source": [
    "corrected_data[:, raw_window.time_as_index(starts)+1] = (corrected_data[:, raw_window.time_as_index(starts)+2] + corrected_data[:, raw_window.time_as_index(starts)])/2\n",
    "raw_corrected_smooth = mne.io.RawArray(corrected_data, raw.info)"
   ]
  }
 ],
 "metadata": {
  "kernelspec": {
   "display_name": "mne",
   "language": "python",
   "name": "python3"
  },
  "language_info": {
   "codemirror_mode": {
    "name": "ipython",
    "version": 3
   },
   "file_extension": ".py",
   "mimetype": "text/x-python",
   "name": "python",
   "nbconvert_exporter": "python",
   "pygments_lexer": "ipython3",
   "version": "3.12.3"
  }
 },
 "nbformat": 4,
 "nbformat_minor": 2
}
