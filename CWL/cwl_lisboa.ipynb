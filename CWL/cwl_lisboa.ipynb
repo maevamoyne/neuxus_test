{
 "cells": [
  {
   "cell_type": "code",
   "execution_count": 46,
   "metadata": {},
   "outputs": [],
   "source": [
    "import numpy as np\n",
    "import mne\n",
    "from scipy import signal\n",
    "\n",
    "\n",
    "def delay_data(data, time_delay, sfreq):\n",
    "    sample_shift = int(np.ceil(time_delay * sfreq))\n",
    "    sample_shifts = np.arange(-sample_shift, sample_shift+1, 1)\n",
    "\n",
    "    delayed_signals = []\n",
    "    for shift in sample_shifts:\n",
    "        delayed_signal = np.roll(data, shift, axis=1)\n",
    "        if shift > 0:\n",
    "            delayed_signal[:, :shift] = data[:, :shift]  # Zero out the initial part to avoid wrap-around\n",
    "        elif shift < 0:\n",
    "            delayed_signal[:, shift:] = data[:, shift:]  # Zero out the end part to avoid wrap-around\n",
    "        delayed_signals.append(delayed_signal)\n",
    "\n",
    "    delay_signals = np.concatenate(delayed_signals, axis=0)\n",
    "    return delay_signals\n",
    "\n",
    "# My way\n",
    "def _correct_data(eeg_data, cwl_data, window_size, overlap):\n",
    "    hanning_window = np.hanning(window_size)\n",
    "    \n",
    "    n_channels, n_times = eeg_data.shape\n",
    "    eeg_corrected = np.zeros_like(eeg_data)\n",
    "    weight_sum = np.zeros_like(eeg_data)\n",
    "    step = int(window_size * (1 - overlap))\n",
    "    starts = np.arange(0, n_times, step)\n",
    "\n",
    "    for start in starts:\n",
    "        end = min(start + window_size, n_times)\n",
    "        actual_window_size = end - start\n",
    "        cwl_segment = cwl_data[:, start:end] #* hanning_window[:actual_window_size]\n",
    "\n",
    "        for ch in range(n_channels):\n",
    "            eeg_segment = eeg_data[ch, start:end] #* hanning_window[:actual_window_size]\n",
    "            # Regression\n",
    "            coeffs = np.linalg.lstsq(cwl_segment.T, eeg_segment.T, )[0]\n",
    "            correction = np.dot(coeffs.T, cwl_segment)\n",
    "            corrected_segment = eeg_segment - correction\n",
    "            # Apply Hanning window to the corrected segment\n",
    "            corrected_segment *= hanning_window[:actual_window_size]\n",
    "            eeg_corrected[ch, start:end] += corrected_segment\n",
    "            weight_sum[ch, start:end] += hanning_window[:actual_window_size]\n",
    "            \n",
    "    # Normalize the corrected signal by the weight sum\n",
    "    weight_sum[weight_sum == 0] = 1 # Avoid division by zero\n",
    "    eeg_corrected /= weight_sum\n",
    "    return eeg_corrected\n",
    "\n",
    "\n",
    "# the MNE way\n",
    "def __correct_data(eeg_data, cwl_data, window_size, overlap):\n",
    "    hanning_window = np.hanning(window_size)\n",
    "    \n",
    "    n_channels, n_times = eeg_data.shape\n",
    "    eeg_corrected = np.zeros_like(eeg_data)\n",
    "    weight_sum = np.zeros_like(eeg_data)\n",
    "    step = int(window_size * (1 - overlap))\n",
    "    starts = np.arange(0, n_times, step)\n",
    "\n",
    "    for start in starts:\n",
    "        end = min(start + window_size, n_times)\n",
    "        actual_window_size = end - start\n",
    "\n",
    "        cwl_segment = cwl_data[:, start:end] #* hanning_window[:actual_window_size]\n",
    "        ref_data = cwl_segment - np.mean(cwl_segment, axis=-1, keepdims=True)\n",
    "        cov_ref = ref_data @ ref_data.T\n",
    "\n",
    "        for ch in range(n_channels):\n",
    "            eeg_segment = eeg_data[ch, start:end] #* hanning_window[:actual_window_size]\n",
    "            # Regression\n",
    "            eeg_segment_demean = eeg_segment - np.mean(eeg_segment, axis=-1, keepdims=True)\n",
    "            eeg_segment_demean = eeg_segment_demean.reshape(1, -1)\n",
    "\n",
    "            coef = np.linalg.solve(cov_ref, ref_data @ eeg_segment_demean.T).T[0]\n",
    "            corrected_segment = eeg_segment - (coef @ ref_data)\n",
    "\n",
    "            # Apply Hanning window to the corrected segment\n",
    "            corrected_segment *= hanning_window[:actual_window_size]\n",
    "            eeg_corrected[ch, start:end] += corrected_segment\n",
    "            weight_sum[ch, start:end] += hanning_window[:actual_window_size]\n",
    "            \n",
    "    # Normalize the corrected signal by the weight sum\n",
    "    weight_sum[weight_sum == 0] = 1 # Avoid division by zero\n",
    "    eeg_corrected /= weight_sum\n",
    "    return eeg_corrected\n",
    "    \n",
    "def cwl_correction_raw(raw, eeg_picks, cwl_picks, time_delay=21e-3, window_duration=4, overlap=0.5):\n",
    "    # Get data\n",
    "    sfreq = raw.info['sfreq']\n",
    "    eeg_data = raw.get_data(picks=eeg_picks)\n",
    "    cwl_data = raw.get_data(picks=cwl_picks)\n",
    "    # Create delayed versions of the CWL data\n",
    "    cwl_data = delay_data(cwl_data, time_delay, sfreq)\n",
    "    # compute Hanning window\n",
    "    window_size = int(np.ceil((window_duration * sfreq)))\n",
    "    eeg_corrected = _correct_data(eeg_data, cwl_data, window_size, overlap)\n",
    "    # Create new MNE Raw object\n",
    "    info = mne.pick_info(raw.info, eeg_picks)\n",
    "    raw_corrected = mne.io.RawArray(eeg_corrected, info)\n",
    "    # Add CWL channels to the new Raw\n",
    "    cwl_raw = raw.copy().pick(cwl_picks)\n",
    "    raw_corrected.add_channels([cwl_raw], force_update_info=True)\n",
    "    return raw_corrected"
   ]
  },
  {
   "cell_type": "code",
   "execution_count": 43,
   "metadata": {},
   "outputs": [
    {
     "name": "stdout",
     "output_type": "stream",
     "text": [
      "Extracting parameters from C:\\Users\\victor.ferat\\Documents\\Soraya\\EEG-MRI\\P05_eyes_open_mrion.vhdr...\n"
     ]
    },
    {
     "name": "stdout",
     "output_type": "stream",
     "text": [
      "Setting channel info structure...\n",
      "Reading 0 ... 1325899  =      0.000 ...   265.180 secs...\n"
     ]
    },
    {
     "name": "stderr",
     "output_type": "stream",
     "text": [
      "C:\\Users\\victor.ferat\\AppData\\Local\\Temp\\ipykernel_8448\\2584054619.py:2: RuntimeWarning: The unit for channel(s) CWL1, CWL2, CWL3, CWL4 has changed from V to NA.\n",
      "  raw.set_channel_types({'CWL1': 'misc', 'CWL2': 'misc', 'CWL3': 'misc', 'CWL4': 'misc', 'ECG': 'ecg'})\n"
     ]
    },
    {
     "name": "stdout",
     "output_type": "stream",
     "text": [
      "Filtering raw data in 1 contiguous segment\n",
      "Setting up band-pass filter from 0.5 - 1.2e+02 Hz\n",
      "\n",
      "FIR filter parameters\n",
      "---------------------\n",
      "Designing a one-pass, zero-phase, non-causal bandpass filter:\n",
      "- Windowed time-domain design (firwin) method\n",
      "- Hamming window with 0.0194 passband ripple and 53 dB stopband attenuation\n",
      "- Lower passband edge: 0.50\n",
      "- Lower transition bandwidth: 0.50 Hz (-6 dB cutoff frequency: 0.25 Hz)\n",
      "- Upper passband edge: 120.00 Hz\n",
      "- Upper transition bandwidth: 5.00 Hz (-6 dB cutoff frequency: 122.50 Hz)\n",
      "- Filter length: 1651 samples (6.604 s)\n",
      "\n"
     ]
    },
    {
     "name": "stderr",
     "output_type": "stream",
     "text": [
      "[Parallel(n_jobs=1)]: Done  17 tasks      | elapsed:    0.0s\n"
     ]
    },
    {
     "data": {
      "text/html": [
       "<details open>\n",
       "    <summary><strong>General</strong></summary>\n",
       "    <table class=\"table table-hover table-striped table-sm table-responsive small\">\n",
       "        <tr>\n",
       "            <th>Measurement date</th>\n",
       "            \n",
       "            <td>January 10, 2024  12:58:09 GMT</td>\n",
       "            \n",
       "        </tr>\n",
       "        <tr>\n",
       "            <th>Experimenter</th>\n",
       "            \n",
       "            <td>Unknown</td>\n",
       "            \n",
       "        </tr>\n",
       "        <tr>\n",
       "            <th>Participant</th>\n",
       "            \n",
       "            <td>Unknown</td>\n",
       "            \n",
       "        </tr>\n",
       "    </table>\n",
       "    </details>\n",
       "    <details open>\n",
       "        <summary><strong>Channels</strong></summary>\n",
       "        <table class=\"table table-hover table-striped table-sm table-responsive small\">\n",
       "            <tr>\n",
       "                <th>Digitized points</th>\n",
       "                \n",
       "                <td>Not available</td>\n",
       "                \n",
       "            </tr>\n",
       "            <tr>\n",
       "                <th>Good channels</th>\n",
       "                <td>31 EEG, 1 ECG, 4 misc</td>\n",
       "            </tr>\n",
       "            <tr>\n",
       "                <th>Bad channels</th>\n",
       "                <td>None</td>\n",
       "            </tr>\n",
       "            <tr>\n",
       "                <th>EOG channels</th>\n",
       "                <td>Not available</td>\n",
       "            </tr>\n",
       "            <tr>\n",
       "                <th>ECG channels</th>\n",
       "                <td>ECG</td>\n",
       "            </tr>\n",
       "        </table>\n",
       "        </details>\n",
       "        <details open>\n",
       "            <summary><strong>Data</strong></summary>\n",
       "            <table class=\"table table-hover table-striped table-sm table-responsive small\">\n",
       "                \n",
       "                <tr>\n",
       "                    <th>Sampling frequency</th>\n",
       "                    <td>250.00 Hz</td>\n",
       "                </tr>\n",
       "                \n",
       "                \n",
       "                <tr>\n",
       "                    <th>Highpass</th>\n",
       "                    <td>0.50 Hz</td>\n",
       "                </tr>\n",
       "                \n",
       "                \n",
       "                <tr>\n",
       "                    <th>Lowpass</th>\n",
       "                    <td>120.00 Hz</td>\n",
       "                </tr>\n",
       "                \n",
       "                \n",
       "                \n",
       "                <tr>\n",
       "                    <th>Filenames</th>\n",
       "                    <td>P05_eyes_open_mrion.eeg</td>\n",
       "                </tr>\n",
       "                \n",
       "                \n",
       "                <tr>\n",
       "                    <th>Duration</th>\n",
       "                    <td>00:03:00 (HH:MM:SS)</td>\n",
       "                </tr>\n",
       "                \n",
       "            </table>\n",
       "            </details>"
      ],
      "text/plain": [
       "<RawBrainVision | P05_eyes_open_mrion.eeg, 36 x 45001 (180.0 s), ~12.4 MB, data loaded>"
      ]
     },
     "execution_count": 43,
     "metadata": {},
     "output_type": "execute_result"
    }
   ],
   "source": [
    "raw = mne.io.read_raw(r\"C:\\Users\\victor.ferat\\Documents\\Soraya\\EEG-MRI\\P05_eyes_open_mrion.vhdr\", preload=True)\n",
    "raw.set_channel_types({'CWL1': 'misc', 'CWL2': 'misc', 'CWL3': 'misc', 'CWL4': 'misc', 'ECG': 'ecg'})\n",
    "raw.resample(250)\n",
    "raw.crop(0, 3*60)\n",
    "raw.filter(0.5, 120)"
   ]
  },
  {
   "cell_type": "code",
   "execution_count": 41,
   "metadata": {},
   "outputs": [
    {
     "data": {
      "text/plain": [
       "array([ 0,  1,  2,  3,  4,  5,  6,  7,  8,  9, 10, 11, 12, 13, 14, 15, 16,\n",
       "       17, 18, 19, 20, 21, 22, 23, 24, 25, 26, 27, 28, 29, 30])"
      ]
     },
     "execution_count": 41,
     "metadata": {},
     "output_type": "execute_result"
    }
   ],
   "source": [
    "eeg_picks=mne.pick_types(raw.info, eeg=True)\n",
    "eeg_picks"
   ]
  },
  {
   "cell_type": "code",
   "execution_count": 47,
   "metadata": {},
   "outputs": [
    {
     "name": "stderr",
     "output_type": "stream",
     "text": [
      "C:\\Users\\victor.ferat\\AppData\\Local\\Temp\\ipykernel_8448\\2599614331.py:40: FutureWarning: `rcond` parameter will change to the default of machine precision times ``max(M, N)`` where M and N are the input matrix dimensions.\n",
      "To use the future default and silence this warning we advise to pass `rcond=None`, to keep using the old, explicitly pass `rcond=-1`.\n",
      "  coeffs = np.linalg.lstsq(cwl_segment.T, eeg_segment.T, )[0]\n"
     ]
    },
    {
     "name": "stdout",
     "output_type": "stream",
     "text": [
      "Creating RawArray with float64 data, n_channels=31, n_times=45001\n",
      "    Range : 0 ... 45000 =      0.000 ...   180.000 secs\n",
      "Ready.\n"
     ]
    }
   ],
   "source": [
    "raw_corrected = cwl_correction_raw(raw, eeg_picks=mne.pick_types(raw.info, eeg=True), cwl_picks=mne.pick_types(raw.info, misc=True), time_delay=21e-3, window_duration=4, overlap=0.5)"
   ]
  },
  {
   "cell_type": "code",
   "execution_count": 31,
   "metadata": {},
   "outputs": [
    {
     "name": "stdout",
     "output_type": "stream",
     "text": [
      "Creating RawArray with float64 data, n_channels=31, n_times=1000\n",
      "    Range : 0 ... 999 =      0.000 ...     3.996 secs\n",
      "Ready.\n"
     ]
    }
   ],
   "source": [
    "cwl_picks=mne.pick_types(raw.info, misc=True)\n",
    "eeg_picks=mne.pick_types(raw.info, eeg=True)\n",
    "time_delay=21e-3\n",
    "window_duration=4\n",
    "overlap=0.5\n",
    "\n",
    "raw_ = raw.copy().crop(0, 4)\n",
    "raw_.resample(250)\n",
    "\n",
    "sfreq = raw.info['sfreq']\n",
    "eeg_data = raw_.get_data(picks=eeg_picks)\n",
    "cwl_data = raw_.get_data(picks=cwl_picks)\n",
    "# Create delayed versions of the CWL data\n",
    "cwl_data = delay_data(cwl_data, time_delay, sfreq)\n",
    "# compute Hanning window\n",
    "window_size = int(np.ceil((window_duration * sfreq)))\n",
    "hanning_window = np.hanning(window_size)\n",
    "\n",
    "n_channels, n_times = eeg_data.shape\n",
    "eeg_corrected = np.zeros_like(eeg_data)\n",
    "weight_sum = np.zeros_like(eeg_data)\n",
    "step = int(window_size * (1 - overlap))\n",
    "starts = np.arange(0, n_times, step)\n",
    "\n",
    "for start in starts:\n",
    "    end = min(start + window_size, n_times)\n",
    "    actual_window_size = end - start\n",
    "\n",
    "    cwl_segment = cwl_data[:, start:end] #* hanning_window[:actual_window_size]\n",
    "    ref_data = cwl_segment - np.mean(cwl_segment, axis=-1, keepdims=True)\n",
    "    cov_ref = ref_data @ ref_data.T\n",
    "\n",
    "    for ch in range(n_channels):\n",
    "        eeg_segment = eeg_data[ch, start:end] #* hanning_window[:actual_window_size]\n",
    "        # Regression\n",
    "        eeg_segment_demean = eeg_segment - np.mean(eeg_segment, axis=-1, keepdims=True)\n",
    "        eeg_segment_demean = eeg_segment_demean.reshape(1, -1)\n",
    "\n",
    "        coef = np.linalg.solve(cov_ref, ref_data @ eeg_segment_demean.T).T[0]\n",
    "        corrected_segment = eeg_segment - (coef @ ref_data)\n",
    "\n",
    "        # Apply Hanning window to the corrected segment\n",
    "        corrected_segment *= hanning_window[:actual_window_size]\n",
    "        eeg_corrected[ch, start:end] += corrected_segment\n",
    "        weight_sum[ch, start:end] += hanning_window[:actual_window_size]\n",
    "        \n",
    "# Normalize the corrected signal by the weight sum\n",
    "weight_sum[weight_sum == 0] = 1 # Avoid division by zero\n",
    "eeg_corrected /= weight_sum\n",
    "\n",
    "# Create new MNE Raw object\n",
    "info = mne.pick_info(raw_.info, eeg_picks)\n",
    "raw_corrected = mne.io.RawArray(eeg_corrected, info)"
   ]
  },
  {
   "cell_type": "code",
   "execution_count": 48,
   "metadata": {},
   "outputs": [
    {
     "data": {
      "text/plain": [
       "<mne_qt_browser._pg_figure.MNEQtBrowser at 0x1c5847ba1f0>"
      ]
     },
     "execution_count": 48,
     "metadata": {},
     "output_type": "execute_result"
    },
    {
     "name": "stdout",
     "output_type": "stream",
     "text": [
      "Channels marked as bad:\n",
      "none\n"
     ]
    }
   ],
   "source": [
    "raw_corrected.plot()"
   ]
  },
  {
   "cell_type": "code",
   "execution_count": 27,
   "metadata": {},
   "outputs": [
    {
     "data": {
      "text/plain": [
       "array([0.000000e+00, 2.000000e-04, 4.000000e-04, ..., 2.651794e+02,\n",
       "       2.651796e+02, 2.651798e+02])"
      ]
     },
     "execution_count": 27,
     "metadata": {},
     "output_type": "execute_result"
    }
   ],
   "source": [
    "raw.times"
   ]
  },
  {
   "cell_type": "code",
   "execution_count": 10,
   "metadata": {},
   "outputs": [
    {
     "data": {
      "text/plain": [
       "(844, 20000)"
      ]
     },
     "execution_count": 10,
     "metadata": {},
     "output_type": "execute_result"
    }
   ],
   "source": [
    "cwl_segment.shape"
   ]
  },
  {
   "cell_type": "code",
   "execution_count": 11,
   "metadata": {},
   "outputs": [
    {
     "data": {
      "text/plain": [
       "(10000,)"
      ]
     },
     "execution_count": 11,
     "metadata": {},
     "output_type": "execute_result"
    }
   ],
   "source": [
    "eeg_segment.shape"
   ]
  },
  {
   "cell_type": "code",
   "execution_count": 12,
   "metadata": {},
   "outputs": [
    {
     "data": {
      "text/plain": [
       "(844, 300001)"
      ]
     },
     "execution_count": 12,
     "metadata": {},
     "output_type": "execute_result"
    }
   ],
   "source": [
    "cwl_data.shape"
   ]
  },
  {
   "cell_type": "code",
   "execution_count": 13,
   "metadata": {},
   "outputs": [
    {
     "data": {
      "text/plain": [
       "(4, 300001)"
      ]
     },
     "execution_count": 13,
     "metadata": {},
     "output_type": "execute_result"
    }
   ],
   "source": [
    "raw_.get_data(picks=cwl_picks).shape"
   ]
  },
  {
   "cell_type": "code",
   "execution_count": 14,
   "metadata": {},
   "outputs": [
    {
     "data": {
      "text/plain": [
       "5000.0"
      ]
     },
     "execution_count": 14,
     "metadata": {},
     "output_type": "execute_result"
    }
   ],
   "source": [
    "sfreq"
   ]
  },
  {
   "cell_type": "code",
   "execution_count": null,
   "metadata": {},
   "outputs": [],
   "source": []
  }
 ],
 "metadata": {
  "kernelspec": {
   "display_name": "mne-lsl",
   "language": "python",
   "name": "python3"
  },
  "language_info": {
   "codemirror_mode": {
    "name": "ipython",
    "version": 3
   },
   "file_extension": ".py",
   "mimetype": "text/x-python",
   "name": "python",
   "nbconvert_exporter": "python",
   "pygments_lexer": "ipython3",
   "version": "3.9.18"
  }
 },
 "nbformat": 4,
 "nbformat_minor": 2
}
