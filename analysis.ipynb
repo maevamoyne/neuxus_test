{
 "cells": [
  {
   "cell_type": "code",
   "execution_count": null,
   "metadata": {},
   "outputs": [],
   "source": [
    "import mne\n",
    "import os\n",
    "\n",
    "subject =  'pilot6'\n",
    "session = '01'\n",
    "folder = fr'C:\\Users\\victor.ferat\\Documents\\Soraya\\NBF\\data\\sub-{subject}\\ses-{session}\\eeg'\n",
    "\n",
    "tmin = 0\n",
    "tmax = 0\n",
    "raws = list()\n",
    "\n",
    "metadatas = list()\n",
    "for file in os.listdir(folder):\n",
    "    if file.endswith('.fif'):\n",
    "        file_path = os.path.join(folder, file)\n",
    "        raw = mne.io.read_raw_fif(file_path)\n",
    "        raw.pick_types(eeg=True, stim=False)\n",
    "        metadata = dict()\n",
    "        metadata['subject'] = file.split('_')[0].split('-')[1]\n",
    "        metadata['session'] = file.split('_')[1].split('-')[1]\n",
    "        metadata['task'] = file.split('_')[2].split('-')[1]\n",
    "        metadata['run'] = file.split('_')[3].split('-')[1]\n",
    "        if metadata['task'] in ['baseline', 'neurofeedback', 'restingstate', 'transfer']:\n",
    "            tmin = tmax\n",
    "            tmax = tmax + raw.times[-1]\n",
    "            metadata['tmin'] = tmin\n",
    "            metadata['tmax'] = tmax\n",
    "            metadatas.append(metadata)\n",
    "            raws.append(raw)\n",
    "\n",
    "\n",
    "raw = mne.concatenate_raws(raws, preload=True)\n",
    "raw.filter(1, 40)\n",
    "raw.notch_filter([50, 100])\n",
    "raw.set_montage('standard_1020')"
   ]
  },
  {
   "cell_type": "code",
   "execution_count": null,
   "metadata": {},
   "outputs": [],
   "source": [
    "%matplotlib qt\n",
    "raw.copy().set_eeg_reference('average').plot_psd()"
   ]
  },
  {
   "cell_type": "code",
   "execution_count": null,
   "metadata": {},
   "outputs": [],
   "source": [
    "raw.plot(precompute=False, scalings='auto')"
   ]
  },
  {
   "cell_type": "code",
   "execution_count": null,
   "metadata": {},
   "outputs": [],
   "source": [
    "raw.save(f'sub-{subject}_ses-{session}_annotated-raw.fif', overwrite=True)"
   ]
  },
  {
   "cell_type": "code",
   "execution_count": null,
   "metadata": {},
   "outputs": [],
   "source": [
    "from mne.preprocessing import ICA\n",
    "\n",
    "rank = mne.compute_rank(raw)\n",
    "ica = ICA(n_components=rank['eeg'], random_state=42, method='infomax', fit_params=dict(extended=True))\n",
    "ica.fit(raw)"
   ]
  },
  {
   "cell_type": "code",
   "execution_count": null,
   "metadata": {},
   "outputs": [],
   "source": [
    "%matplotlib qt\n",
    "ica.plot_components(inst=raw)"
   ]
  },
  {
   "cell_type": "code",
   "execution_count": null,
   "metadata": {},
   "outputs": [],
   "source": [
    "ica.plot_sources(inst=raw) #gbhfgh"
   ]
  },
  {
   "cell_type": "code",
   "execution_count": null,
   "metadata": {},
   "outputs": [],
   "source": [
    "raw_ica = ica.apply(raw.copy())\n",
    "raw_ica.interpolate_bads()\n",
    "raw_ica.set_eeg_reference('average')"
   ]
  },
  {
   "cell_type": "code",
   "execution_count": null,
   "metadata": {},
   "outputs": [],
   "source": [
    "raw_ica.plot_psd(fmin=0, fmax=40)"
   ]
  },
  {
   "cell_type": "code",
   "execution_count": null,
   "metadata": {},
   "outputs": [],
   "source": [
    "raw_ica.save(fr'sub-{subject}_ses-{session}_annotated-preproc-raw.fif', overwrite=True)"
   ]
  },
  {
   "cell_type": "code",
   "execution_count": null,
   "metadata": {},
   "outputs": [],
   "source": [
    "import mne\n",
    "import numpy as np\n",
    "# Define the electrodes of interest\n",
    "electrodes_OI_right = ['P4', 'P8', 'O2']\n",
    "electrodes_OI_left = ['P3', 'P7', 'O1']\n",
    "freqs = [8, 13]\n",
    "# Compute the alpha power on average for the specified electrodes\n",
    "duration = 2\n",
    "\n",
    "psds = list()\n",
    "for metadata in metadatas:\n",
    "    raw_ = raw_ica.copy().crop(metadata['tmin'], metadata['tmax'])\n",
    "    epochs_ = mne.make_fixed_length_epochs(raw_, duration=duration, overlap=0.5, preload=False)\n",
    "    epochs_ = epochs_.drop_bad()\n",
    "    if len(epochs_):\n",
    "        tf = mne.time_frequency.psd_array_welch(epochs_.get_data( picks=electrodes_OI_right), raw.info['sfreq'], fmin=freqs[0], fmax=freqs[1],)\n",
    "        alpha_power_right = np.average(np.average(tf[0], axis=2), axis=1)\n",
    "    \n",
    "        tf = mne.time_frequency.psd_array_welch(epochs_.get_data( picks=electrodes_OI_left), raw.info['sfreq'], fmin=freqs[0], fmax=freqs[1],)\n",
    "        alpha_power_left = np.average(np.average(tf[0], axis=2), axis=1)\n",
    "    \n",
    "        metadata['alpha_power_right_dist'] = alpha_power_right\n",
    "        metadata['alpha_power_left_dist'] = alpha_power_left\n",
    "        metadata['alpha_power_right'] = np.average(alpha_power_right)\n",
    "        metadata['alpha_power_left'] = np.average(alpha_power_left)\n",
    "        \n",
    "        for right, left  in zip(alpha_power_right, alpha_power_left):\n",
    "            p = {'power': right - left,\n",
    "                'side': 'right - left',\n",
    "                 'run': metadata['run'],\n",
    "                 'task': metadata['task']}\n",
    "            psds.append(p)\n"
   ]
  },
  {
   "cell_type": "code",
   "execution_count": null,
   "metadata": {},
   "outputs": [],
   "source": [
    "import pandas as pd\n",
    "df = pd.DataFrame(psds)\n",
    "\n",
    "def new(row):\n",
    "    run = row['run']\n",
    "    task = row['task']\n",
    "    if task == 'neurofeedback':\n",
    "        if run == '10':\n",
    "            run = '13'\n",
    "        elif run == '11':\n",
    "            run = '14'       \n",
    "        elif run == '12':\n",
    "            run = '15'\n",
    "    elif task == 'transfer':\n",
    "        task = 'neurofeedback'\n",
    "        if run == '01':\n",
    "            run = '10'\n",
    "        elif run == '02':\n",
    "            run = '11'       \n",
    "        elif run == '03':\n",
    "            run = '12'\n",
    "    return(task, run)\n",
    "\n",
    "df[['new_task', 'new_run']] = [new(row) for r, row in df.iterrows()]\n",
    "df['task_run'] = df['new_task'] + '_' + df['new_run']\n",
    "df"
   ]
  },
  {
   "cell_type": "code",
   "execution_count": null,
   "metadata": {},
   "outputs": [],
   "source": [
    "runs_nf"
   ]
  },
  {
   "cell_type": "code",
   "execution_count": null,
   "metadata": {},
   "outputs": [],
   "source": [
    "import dabest\n",
    "import matplotlib.pyplot as plt\n",
    "\n",
    "runs_nf = df[df['new_task'] == 'neurofeedback']['new_run'].unique()\n",
    "runs_baseline = df[df['new_task'] == 'baseline']['new_run'].unique()\n",
    "runs = np.intersect1d(runs_nf, runs_baseline)\n",
    "runs.sort()\n",
    "idx = [(f\"baseline_{i}\", f\"neurofeedback_{i}\") for i in runs]\n",
    "\n",
    "unpaired = dabest.load(data = df,\n",
    "                          idx=idx,\n",
    "                          x=\"task_run\", y=\"power\")\n",
    "\n",
    "unpaired.cohens_d.plot(color_col='task')"
   ]
  },
  {
   "cell_type": "code",
   "execution_count": null,
   "metadata": {},
   "outputs": [],
   "source": [
    "import seaborn as sns\n",
    "\n",
    "order = df[df['new_task'] == 'neurofeedback']['task_run'].unique()\n",
    "order.sort()\n",
    "xticks_labels = [o.split('_')[-1] for o in order]\n",
    "xticks = np.arange(len(xticks_labels))\n",
    "\n",
    "fig, ax = plt.subplots()\n",
    "sns.boxplot(data=df, x='task_run', y='power',order=order, ax=ax)\n",
    "ax.set_xticks(xticks, xticks_labels)\n",
    "\n",
    "ax.hlines(y=0, xmin=-1, xmax=xticks.max()+1, color='red')\n",
    "\n",
    "plt.show()"
   ]
  }
 ],
 "metadata": {
  "kernelspec": {
   "display_name": "Python 3 (ipykernel)",
   "language": "python",
   "name": "python3"
  },
  "language_info": {
   "codemirror_mode": {
    "name": "ipython",
    "version": 3
   },
   "file_extension": ".py",
   "mimetype": "text/x-python",
   "name": "python",
   "nbconvert_exporter": "python",
   "pygments_lexer": "ipython3",
   "version": "3.9.18"
  }
 },
 "nbformat": 4,
 "nbformat_minor": 4
}
