{
 "cells": [
  {
   "cell_type": "code",
   "execution_count": 1,
   "metadata": {},
   "outputs": [
    {
     "ename": "NameError",
     "evalue": "name 'raw' is not defined",
     "output_type": "error",
     "traceback": [
      "\u001b[1;31m---------------------------------------------------------------------------\u001b[0m",
      "\u001b[1;31mNameError\u001b[0m                                 Traceback (most recent call last)",
      "Cell \u001b[1;32mIn[1], line 47\u001b[0m\n\u001b[0;32m     44\u001b[0m         \u001b[38;5;28;01mreturn\u001b[39;00m(raw_corrected)\n\u001b[0;32m     46\u001b[0m GAC \u001b[38;5;241m=\u001b[39m GradientArtefactCorrection()\n\u001b[1;32m---> 47\u001b[0m raw_corrected \u001b[38;5;241m=\u001b[39m GAC\u001b[38;5;241m.\u001b[39mfit_transform(\u001b[43mraw\u001b[49m, event_name\u001b[38;5;241m=\u001b[39m\u001b[38;5;124m'\u001b[39m\u001b[38;5;124mResponse/R128\u001b[39m\u001b[38;5;124m'\u001b[39m, half_window_size\u001b[38;5;241m=\u001b[39m\u001b[38;5;241m10\u001b[39m)   \n",
      "\u001b[1;31mNameError\u001b[0m: name 'raw' is not defined"
     ]
    }
   ],
   "source": [
    "class GradientArtefactCorrection():\n",
    "\n",
    "    def __init__(self):\n",
    "        pass\n",
    "\n",
    "    def fit_transform(self, raw, event_name, half_window_size=10):\n",
    "\n",
    "        tr_events, event_id = mne.events_from_annotations(raw, event_id='auto', regexp=event_name, use_rounding=True, chunk_duration=None, verbose=None)\n",
    "\n",
    "        tr = np.diff(tr_events[:,0])\n",
    "        tr = np.mean(tr).astype(int)\n",
    "        tr_s = tr / raw.info['sfreq']\n",
    "\n",
    "        print(tr_s)\n",
    "\n",
    "        epochs = mne.Epochs(raw, tr_events, event_id, tmin=0, tmax=tr_s, baseline=None, preload=False).drop_bad()\n",
    "        epochs_detrended = mne.Epochs(raw, tr_events, event_id, tmin=0, tmax=tr_s, baseline=None, preload=False, detrend=0).drop_bad()\n",
    "        \n",
    "        corrected = raw.get_data()\n",
    "        for t,tr_event in enumerate(tr_events[:,0]):\n",
    "            start = tr_event\n",
    "            stop = start + tr + 1\n",
    "            if stop > raw.n_times:\n",
    "                stop = raw.n_times\n",
    "\n",
    "            indice_min = t - half_window_size \n",
    "            indice_max = t + half_window_size + 1\n",
    "\n",
    "            if t < half_window_size:\n",
    "                indice_min = 0\n",
    "                indice_max = 2 * half_window_size + 1\n",
    "\n",
    "            if t > len(epochs) - half_window_size:\n",
    "                indice_max = len(epochs)\n",
    "                indice_min = len(epochs) - 2 * half_window_size - 1\n",
    "\n",
    "            print(indice_min, indice_max)\n",
    "            template = epochs_detrended[indice_min:indice_max].average().data\n",
    "            data = epochs[t].get_data()[0]\n",
    "            corrected[:, start:stop] = data - template\n",
    "\n",
    "        raw_corrected = mne.io.RawArray(corrected, raw.info)\n",
    "        raw_corrected.set_annotations(raw.annotations)\n",
    "        return(raw_corrected)\n",
    "\n",
    "GAC = GradientArtefactCorrection()\n",
    "raw_corrected = GAC.fit_transform(raw, event_name='Response/R128', half_window_size=10)   "
   ]
  },
  {
   "cell_type": "code",
   "execution_count": 95,
   "metadata": {},
   "outputs": [
    {
     "data": {
      "text/plain": [
       "<mne_qt_browser._pg_figure.MNEQtBrowser at 0x1de2baa3a60>"
      ]
     },
     "execution_count": 95,
     "metadata": {},
     "output_type": "execute_result"
    }
   ],
   "source": [
    "raw_corrected.plot()"
   ]
  },
  {
   "cell_type": "code",
   "execution_count": 103,
   "metadata": {},
   "outputs": [
    {
     "data": {
      "text/plain": [
       "(36, 1325900)"
      ]
     },
     "execution_count": 103,
     "metadata": {},
     "output_type": "execute_result"
    }
   ],
   "source": [
    "raw.get_data().shape"
   ]
  },
  {
   "cell_type": "code",
   "execution_count": 101,
   "metadata": {},
   "outputs": [
    {
     "data": {
      "text/plain": [
       "(1325900,)"
      ]
     },
     "execution_count": 101,
     "metadata": {},
     "output_type": "execute_result"
    }
   ],
   "source": [
    "raw.get_data()[0,0:raw.n_times].shape"
   ]
  },
  {
   "cell_type": "code",
   "execution_count": 2,
   "metadata": {},
   "outputs": [
    {
     "ename": "NameError",
     "evalue": "name 'mne' is not defined",
     "output_type": "error",
     "traceback": [
      "\u001b[1;31m---------------------------------------------------------------------------\u001b[0m",
      "\u001b[1;31mNameError\u001b[0m                                 Traceback (most recent call last)",
      "Cell \u001b[1;32mIn[2], line 1\u001b[0m\n\u001b[1;32m----> 1\u001b[0m raw \u001b[38;5;241m=\u001b[39m \u001b[43mmne\u001b[49m\u001b[38;5;241m.\u001b[39mio\u001b[38;5;241m.\u001b[39mread_raw_brainvision(\u001b[38;5;124mr\u001b[39m\u001b[38;5;124m'\u001b[39m\u001b[38;5;124mC:\u001b[39m\u001b[38;5;124m\\\u001b[39m\u001b[38;5;124mUsers\u001b[39m\u001b[38;5;124m\\\u001b[39m\u001b[38;5;124mVictor\u001b[39m\u001b[38;5;124m\\\u001b[39m\u001b[38;5;124mDocuments\u001b[39m\u001b[38;5;124m\\\u001b[39m\u001b[38;5;124mGitHub\u001b[39m\u001b[38;5;124m\\\u001b[39m\u001b[38;5;124mneuxus_test\u001b[39m\u001b[38;5;124m\\\u001b[39m\u001b[38;5;124mP05_eyes_open_mrion.vhdr\u001b[39m\u001b[38;5;124m'\u001b[39m, preload\u001b[38;5;241m=\u001b[39m\u001b[38;5;28;01mTrue\u001b[39;00m)\n",
      "\u001b[1;31mNameError\u001b[0m: name 'mne' is not defined"
     ]
    }
   ],
   "source": [
    "raw = mne.io.read_raw_brainvision(r'C:\\Users\\Victor\\Documents\\GitHub\\neuxus_test\\P05_eyes_open_mrion.vhdr', preload=True)"
   ]
  },
  {
   "cell_type": "code",
   "execution_count": 18,
   "metadata": {},
   "outputs": [
    {
     "ename": "TypeError",
     "evalue": "only integer scalar arrays can be converted to a scalar index",
     "output_type": "error",
     "traceback": [
      "\u001b[1;31m---------------------------------------------------------------------------\u001b[0m",
      "\u001b[1;31mTypeError\u001b[0m                                 Traceback (most recent call last)",
      "Input \u001b[1;32mIn [18]\u001b[0m, in \u001b[0;36m<cell line: 9>\u001b[1;34m()\u001b[0m\n\u001b[0;32m      6\u001b[0m tr_events \u001b[38;5;241m=\u001b[39m np\u001b[38;5;241m.\u001b[39masarray(tr_events)\n\u001b[0;32m      8\u001b[0m gr \u001b[38;5;241m=\u001b[39m GradientRemover(data, tr_events)\n\u001b[1;32m----> 9\u001b[0m corrected \u001b[38;5;241m=\u001b[39m \u001b[43mgr\u001b[49m\u001b[38;5;241;43m.\u001b[39;49m\u001b[43mcorrected\u001b[49m\n\u001b[0;32m     10\u001b[0m raw_corrected \u001b[38;5;241m=\u001b[39m mne\u001b[38;5;241m.\u001b[39mio\u001b[38;5;241m.\u001b[39mRawArray(corrected, raw\u001b[38;5;241m.\u001b[39minfo, verbose\u001b[38;5;241m=\u001b[39m\u001b[38;5;28;01mFalse\u001b[39;00m)\n",
      "Input \u001b[1;32mIn [17]\u001b[0m, in \u001b[0;36mGradientRemover.corrected\u001b[1;34m(self)\u001b[0m\n\u001b[0;32m     54\u001b[0m     \u001b[38;5;28;01mreturn\u001b[39;00m \u001b[38;5;28mself\u001b[39m\u001b[38;5;241m.\u001b[39m_corrected\n\u001b[0;32m     55\u001b[0m \u001b[38;5;28;01melse\u001b[39;00m:\n\u001b[1;32m---> 56\u001b[0m     \u001b[38;5;28;01mreturn\u001b[39;00m \u001b[38;5;28;43mself\u001b[39;49m\u001b[38;5;241;43m.\u001b[39;49m\u001b[43mcorrect\u001b[49m\u001b[43m(\u001b[49m\u001b[43m)\u001b[49m\n",
      "Input \u001b[1;32mIn [17]\u001b[0m, in \u001b[0;36mGradientRemover.correct\u001b[1;34m(self)\u001b[0m\n\u001b[0;32m    176\u001b[0m \u001b[38;5;124;03m\"\"\"Generate the gradient-corrected data.\"\"\"\u001b[39;00m\n\u001b[0;32m    177\u001b[0m corrected \u001b[38;5;241m=\u001b[39m \u001b[38;5;28mself\u001b[39m\u001b[38;5;241m.\u001b[39m_data\u001b[38;5;241m.\u001b[39mcopy()\n\u001b[1;32m--> 178\u001b[0m \u001b[38;5;28;01mfor\u001b[39;00m tr_onset \u001b[38;5;129;01min\u001b[39;00m \u001b[38;5;28;43mrange\u001b[39;49m\u001b[43m(\u001b[49m\u001b[38;5;28;43mself\u001b[39;49m\u001b[38;5;241;43m.\u001b[39;49m\u001b[43m_tr_events\u001b[49m\u001b[43m)\u001b[49m:\n\u001b[0;32m    179\u001b[0m     this_start \u001b[38;5;241m=\u001b[39m tr_onset\n\u001b[0;32m    180\u001b[0m     this_end \u001b[38;5;241m=\u001b[39m this_start \u001b[38;5;241m+\u001b[39m \u001b[38;5;28mself\u001b[39m\u001b[38;5;241m.\u001b[39mtr_spacing\n",
      "\u001b[1;31mTypeError\u001b[0m: only integer scalar arrays can be converted to a scalar index"
     ]
    }
   ],
   "source": [
    "data = raw.get_data()\n",
    "tr_events = []\n",
    "for annotation in raw.annotations:\n",
    "    if annotation['description'] == 'Response/R128':\n",
    "        tr_events.append(int(annotation['onset']  * raw.info['sfreq']))\n",
    "tr_events = np.asarray(tr_events)\n",
    "\n",
    "gr = GradientRemover(data, tr_events)\n",
    "corrected = gr.corrected\n",
    "raw_corrected = mne.io.RawArray(corrected, raw.info, verbose=False)"
   ]
  },
  {
   "cell_type": "code",
   "execution_count": 15,
   "metadata": {},
   "outputs": [
    {
     "data": {
      "text/plain": [
       "<mne_qt_browser._pg_figure.MNEQtBrowser at 0x1de4fcf01f0>"
      ]
     },
     "execution_count": 15,
     "metadata": {},
     "output_type": "execute_result"
    }
   ],
   "source": [
    "raw_corrected.plot()"
   ]
  },
  {
   "cell_type": "code",
   "execution_count": 16,
   "metadata": {},
   "outputs": [
    {
     "data": {
      "text/plain": [
       "<mne_qt_browser._pg_figure.MNEQtBrowser at 0x1de5163b9d0>"
      ]
     },
     "execution_count": 16,
     "metadata": {},
     "output_type": "execute_result"
    }
   ],
   "source": [
    "raw.plot()"
   ]
  },
  {
   "cell_type": "code",
   "execution_count": null,
   "metadata": {},
   "outputs": [],
   "source": []
  }
 ],
 "metadata": {
  "kernelspec": {
   "display_name": "Python 3 (ipykernel)",
   "language": "python",
   "name": "python3"
  },
  "language_info": {
   "codemirror_mode": {
    "name": "ipython",
    "version": 3
   },
   "file_extension": ".py",
   "mimetype": "text/x-python",
   "name": "python",
   "nbconvert_exporter": "python",
   "pygments_lexer": "ipython3",
   "version": "3.9.18"
  }
 },
 "nbformat": 4,
 "nbformat_minor": 4
}
